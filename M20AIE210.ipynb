{
  "nbformat": 4,
  "nbformat_minor": 0,
  "metadata": {
    "colab": {
      "provenance": [],
      "private_outputs": true,
      "collapsed_sections": [],
      "authorship_tag": "ABX9TyNsi9Rx2CS3iKdyDxsg8Gnv",
      "include_colab_link": true
    },
    "kernelspec": {
      "name": "python3",
      "display_name": "Python 3"
    },
    "language_info": {
      "name": "python"
    },
    "gpuClass": "standard",
    "accelerator": "GPU"
  },
  "cells": [
    {
      "cell_type": "markdown",
      "metadata": {
        "id": "view-in-github",
        "colab_type": "text"
      },
      "source": [
        "<a href=\"https://colab.research.google.com/github/dhyaks/Assigment/blob/main/M20AIE210.ipynb\" target=\"_parent\"><img src=\"https://colab.research.google.com/assets/colab-badge.svg\" alt=\"Open In Colab\"/></a>"
      ]
    },
    {
      "cell_type": "code",
      "source": [
        "from sklearn.preprocessing import LabelEncoder\n",
        "label_encoder=LabelEncoder()\n",
        "import zipfile\n",
        "\n"
      ],
      "metadata": {
        "id": "eN-0848lgU4x"
      },
      "execution_count": null,
      "outputs": []
    },
    {
      "cell_type": "code",
      "execution_count": null,
      "metadata": {
        "id": "APkjFkbDUSje"
      },
      "outputs": [],
      "source": [
        "from google.colab import drive\n",
        "drive.mount('/content/drive')"
      ]
    },
    {
      "cell_type": "code",
      "source": [
        "import zipfile"
      ],
      "metadata": {
        "id": "3To6JyETWDyg"
      },
      "execution_count": null,
      "outputs": []
    },
    {
      "cell_type": "code",
      "source": [
        "zip_ref = zipfile.ZipFile('/content/drive/MyDrive/BIO_VISION/predict-20221101T092253Z-001.zip', 'r')\n",
        "zip_ref.extractall('/content/drive/MyDrive/BIO_VISION')\n",
        "zip_ref.close()\n",
        "zip_ref = zipfile.ZipFile('/content/drive/MyDrive/BIO_VISION/train-20221101T092401Z-001.zip', 'r')\n",
        "zip_ref.extractall('/content/drive/MyDrive/BIO_VISION')\n",
        "zip_ref.close()\n",
        "zip_ref = zipfile.ZipFile('/content/drive/MyDrive/BIO_VISION/test-20221101T092219Z-001.zip', 'r')\n",
        "zip_ref.extractall('/content/drive/MyDrive/BIO_VISION')\n",
        "zip_ref.close()"
      ],
      "metadata": {
        "id": "VvoMRD2IWUtw"
      },
      "execution_count": null,
      "outputs": []
    },
    {
      "cell_type": "code",
      "source": [
        "################Image_counts_and_load_in_dataFrame######"
      ],
      "metadata": {
        "id": "KRmHwmavW6fV"
      },
      "execution_count": null,
      "outputs": []
    },
    {
      "cell_type": "code",
      "source": [
        "import glob\n",
        "import pandas as pd\n",
        "import os"
      ],
      "metadata": {
        "id": "uuemY1vsbV3G"
      },
      "execution_count": null,
      "outputs": []
    },
    {
      "cell_type": "code",
      "source": [
        "def data_image_data_create(f):\n",
        "  image_file=f+'/'+'*'\n",
        "  path,file=os.path.split(f)\n",
        "  l1=[]\n",
        "  count=0\n",
        "  for ii in glob.glob(image_file):\n",
        "    l1.append(ii)\n",
        "    count=count+1\n",
        "  data=pd.DataFrame({'filename':l1})\n",
        "  data['Category']=str(file)\n",
        "  data['Category']=data['Category'].str.lower()\n",
        "  print('**Folder Name=',file,\"**\" 'Image Count=',count)\n",
        "  del l1\n",
        "  return data\n",
        "\n",
        "def data_extract(path):\n",
        "  f_data=pd.DataFrame()\n",
        "  p=path+'/'+'*'\n",
        "  for i in glob.glob(p):\n",
        "    d=data_image_data_create(i)\n",
        "    f_data=f_data.append(d)\n",
        "  return f_data"
      ],
      "metadata": {
        "id": "kYdLwjsRbC6C"
      },
      "execution_count": null,
      "outputs": []
    },
    {
      "cell_type": "code",
      "source": [
        "train_data=data_extract('/content/drive/MyDrive/BIO_VISION/train')"
      ],
      "metadata": {
        "id": "2Fw8Lt4Gc_MN"
      },
      "execution_count": null,
      "outputs": []
    },
    {
      "cell_type": "code",
      "source": [
        "test_data=data_extract('/content/drive/MyDrive/BIO_VISION/test')"
      ],
      "metadata": {
        "id": "kcwNHhdVeSG8"
      },
      "execution_count": null,
      "outputs": []
    },
    {
      "cell_type": "code",
      "source": [
        "###############decode your Category###########"
      ],
      "metadata": {
        "id": "mR5Jl5G-ecUF"
      },
      "execution_count": null,
      "outputs": []
    },
    {
      "cell_type": "code",
      "source": [
        "train_data['Category'].value_counts()"
      ],
      "metadata": {
        "id": "_p_8a5tDenHm"
      },
      "execution_count": null,
      "outputs": []
    },
    {
      "cell_type": "code",
      "source": [],
      "metadata": {
        "id": "8tq7fHdBesM5"
      },
      "execution_count": null,
      "outputs": []
    },
    {
      "cell_type": "code",
      "source": [
        "train_data['Category_Label']=label_encoder.fit_transform(train_data['Category'])\n",
        "d1=train_data[['Category','Category_Label']].drop_duplicates()"
      ],
      "metadata": {
        "id": "o3iulDUffABu"
      },
      "execution_count": null,
      "outputs": []
    },
    {
      "cell_type": "code",
      "source": [
        "d1"
      ],
      "metadata": {
        "id": "9qit9b7VfiVO"
      },
      "execution_count": null,
      "outputs": []
    },
    {
      "cell_type": "code",
      "source": [
        "test_data['Category'].value_counts()"
      ],
      "metadata": {
        "id": "uQYo0ZzYgIRa"
      },
      "execution_count": null,
      "outputs": []
    },
    {
      "cell_type": "code",
      "source": [
        "test_data['Category_Label']=label_encoder.fit_transform(test_data['Category'])\n",
        "d2=test_data[['Category','Category_Label']].drop_duplicates()"
      ],
      "metadata": {
        "id": "fx3Yp0LngQVp"
      },
      "execution_count": null,
      "outputs": []
    },
    {
      "cell_type": "code",
      "source": [
        "d2"
      ],
      "metadata": {
        "id": "8gldcxNPhYfh"
      },
      "execution_count": null,
      "outputs": []
    },
    {
      "cell_type": "code",
      "source": [
        "###########Image Size##############"
      ],
      "metadata": {
        "id": "w9G6BogKhZgf"
      },
      "execution_count": null,
      "outputs": []
    },
    {
      "cell_type": "code",
      "source": [
        "import cv2"
      ],
      "metadata": {
        "id": "qPqhtwxVhh9n"
      },
      "execution_count": null,
      "outputs": []
    },
    {
      "cell_type": "code",
      "source": [
        "def image_shape(f):\n",
        "  im=cv2.imread(f)\n",
        "  size=im.shape\n",
        "  return size"
      ],
      "metadata": {
        "id": "Iy32wVNnhoBl"
      },
      "execution_count": null,
      "outputs": []
    },
    {
      "cell_type": "code",
      "source": [
        "def image_size_count(data):\n",
        "  size_data=[]\n",
        "  for i in data['filename']:\n",
        "    im=cv2.imread(i)\n",
        "    try:\n",
        "      x=im.shape \n",
        "      size_data.append(x)\n",
        "    except:\n",
        "      print(i)\n",
        "  df=pd.DataFrame({'Size':size_data})\n",
        "  return df"
      ],
      "metadata": {
        "id": "0EWq4Oophy8D"
      },
      "execution_count": null,
      "outputs": []
    },
    {
      "cell_type": "code",
      "source": [
        "train_size=image_size_count(train_data)"
      ],
      "metadata": {
        "id": "u9RYTw11ipn4"
      },
      "execution_count": null,
      "outputs": []
    },
    {
      "cell_type": "code",
      "source": [
        "train_size['Size'].value_counts()"
      ],
      "metadata": {
        "id": "sRHjBj1sjGhN"
      },
      "execution_count": null,
      "outputs": []
    },
    {
      "cell_type": "code",
      "source": [
        "test_size=image_size_count(test_data)"
      ],
      "metadata": {
        "id": "_kq-NfbQjP2I"
      },
      "execution_count": null,
      "outputs": []
    },
    {
      "cell_type": "code",
      "source": [
        "test_size['Size'].value_counts()"
      ],
      "metadata": {
        "id": "c7ay_lINjYiw"
      },
      "execution_count": null,
      "outputs": []
    },
    {
      "cell_type": "code",
      "source": [
        "##################Resize_Image######"
      ],
      "metadata": {
        "id": "bKc9lDc1jfwR"
      },
      "execution_count": null,
      "outputs": []
    },
    {
      "cell_type": "code",
      "source": [
        "train_data"
      ],
      "metadata": {
        "id": "HC-RfkwxjxWF"
      },
      "execution_count": null,
      "outputs": []
    },
    {
      "cell_type": "code",
      "source": [
        "def resize_image(data):\n",
        "  for i in data['filename']:\n",
        "    try:\n",
        "      img=cv2.imread(i)\n",
        "      print('Original Dimensions: ',img.shape)\n",
        "      width=int(150)\n",
        "      height=int(150)\n",
        "      dim=(width,height)\n",
        "      resized=cv2.resize(img,dim,interpolation=cv2.INTER_AREA)\n",
        "      print('Resized Dimensions: ',resized.shape)\n",
        "      cv2.imwrite(i,resized)\n",
        "    except:\n",
        "      print(i)"
      ],
      "metadata": {
        "id": "OP66RxH_jypx"
      },
      "execution_count": null,
      "outputs": []
    },
    {
      "cell_type": "code",
      "source": [
        "resize_image(train_data)"
      ],
      "metadata": {
        "id": "q5d1biXelgUc"
      },
      "execution_count": null,
      "outputs": []
    },
    {
      "cell_type": "code",
      "source": [
        "resize_image(test_data)"
      ],
      "metadata": {
        "id": "ZwEvC6d1lmuM"
      },
      "execution_count": null,
      "outputs": []
    },
    {
      "cell_type": "code",
      "source": [
        "resize_train_size=image_size_count(train_data)"
      ],
      "metadata": {
        "id": "Y5CXGw7CuySD"
      },
      "execution_count": null,
      "outputs": []
    },
    {
      "cell_type": "code",
      "source": [
        "#################Show One Image In very Folder##########"
      ],
      "metadata": {
        "id": "ZuI4HUYXl2md"
      },
      "execution_count": null,
      "outputs": []
    },
    {
      "cell_type": "code",
      "source": [
        "from PIL import Image"
      ],
      "metadata": {
        "id": "-zqdBab0mvJz"
      },
      "execution_count": null,
      "outputs": []
    },
    {
      "cell_type": "code",
      "source": [
        "lst=train_data['Category'].unique()"
      ],
      "metadata": {
        "id": "Tf2VEvHymlBO"
      },
      "execution_count": null,
      "outputs": []
    },
    {
      "cell_type": "code",
      "source": [
        "import matplotlib.pyplot as plt\n",
        "import matplotlib.image as mpimg\n"
      ],
      "metadata": {
        "id": "IC0Alr9pwv8E"
      },
      "execution_count": null,
      "outputs": []
    },
    {
      "cell_type": "code",
      "source": [
        "for i in lst:\n",
        "  res=train_data[train_data['Category']==i]\n",
        "  res1=res[:5]\n",
        "  x=res1['Category'][0]\n",
        "  for i in res1['filename']:\n",
        "    img = mpimg.imread(i)\n",
        "    imgplot = plt.imshow(img)\n",
        "    plt.show()\n",
        "    print(x)\n"
      ],
      "metadata": {
        "id": "As3iIuETmqlu"
      },
      "execution_count": null,
      "outputs": []
    },
    {
      "cell_type": "code",
      "source": [
        "import tensorflow as tf\n",
        "from tensorflow import keras\n",
        "from keras import Sequential\n",
        "from keras.layers import Dense,Conv2D,MaxPooling2D,Flatten,BatchNormalization,Dropout"
      ],
      "metadata": {
        "id": "Xg6gKfVjnyK4"
      },
      "execution_count": null,
      "outputs": []
    },
    {
      "cell_type": "code",
      "source": [
        "train_ds = keras.utils.image_dataset_from_directory(\n",
        "    directory = '/content/drive/MyDrive/BIO_VISION/train',\n",
        "    labels='inferred',\n",
        "    label_mode = 'int',\n",
        "    batch_size=32,\n",
        "    image_size=(150,150)\n",
        ")"
      ],
      "metadata": {
        "id": "3jiXGS6w3XNM"
      },
      "execution_count": null,
      "outputs": []
    },
    {
      "cell_type": "code",
      "source": [
        "validation_ds = keras.utils.image_dataset_from_directory(\n",
        "    directory = '/content/drive/MyDrive/BIO_VISION/test',\n",
        "    labels='inferred',\n",
        "    label_mode = 'int',\n",
        "    batch_size=32,\n",
        "    image_size=(150,150)\n",
        ")"
      ],
      "metadata": {
        "id": "XALknrXz3lAb"
      },
      "execution_count": null,
      "outputs": []
    },
    {
      "cell_type": "code",
      "source": [
        "def process(image,label):\n",
        "    image = tf.cast(image/255. ,tf.float32)\n",
        "    return image,label\n",
        "\n",
        "train_ds = train_ds.map(process)\n",
        "validation_ds = validation_ds.map(process)"
      ],
      "metadata": {
        "id": "pw5H8qiK31q3"
      },
      "execution_count": null,
      "outputs": []
    },
    {
      "cell_type": "code",
      "source": [
        "model = Sequential()\n",
        "\n",
        "model.add(Conv2D(32,kernel_size=(3,3),padding='valid',activation='relu',input_shape=(150,150,3)))\n",
        "model.add(BatchNormalization())\n",
        "model.add(MaxPooling2D(pool_size=(2,2),strides=2,padding='valid'))\n",
        "\n",
        "model.add(Conv2D(64,kernel_size=(3,3),padding='valid',activation='relu'))\n",
        "model.add(BatchNormalization())\n",
        "model.add(MaxPooling2D(pool_size=(2,2),strides=2,padding='valid'))\n",
        "\n",
        "model.add(Conv2D(128,kernel_size=(3,3),padding='valid',activation='relu'))\n",
        "model.add(BatchNormalization())\n",
        "model.add(MaxPooling2D(pool_size=(2,2),strides=2,padding='valid'))\n",
        "\n",
        "model.add(Flatten())\n",
        "\n",
        "model.add(Dense(128,activation='relu'))\n",
        "model.add(Dropout(0.1))\n",
        "model.add(Dense(64,activation='relu'))\n",
        "model.add(Dropout(0.1))\n",
        "model.add(Dense(1,activation='softmax'))"
      ],
      "metadata": {
        "id": "rtOK937a4EzO"
      },
      "execution_count": null,
      "outputs": []
    },
    {
      "cell_type": "code",
      "source": [
        "model.summary()"
      ],
      "metadata": {
        "id": "C3680hCB4TOI"
      },
      "execution_count": null,
      "outputs": []
    },
    {
      "cell_type": "code",
      "source": [
        "model.compile(optimizer='adam',loss='binary_crossentropy',metrics=['accuracy'])"
      ],
      "metadata": {
        "id": "GQ_Pkiff4WPq"
      },
      "execution_count": null,
      "outputs": []
    },
    {
      "cell_type": "code",
      "source": [
        "history = model.fit(train_ds,epochs=100,validation_data=validation_ds)"
      ],
      "metadata": {
        "id": "gc10SDHk4a2B"
      },
      "execution_count": null,
      "outputs": []
    },
    {
      "cell_type": "code",
      "source": [
        "import matplotlib.pyplot as plt\n",
        "\n",
        "plt.plot(history.history['accuracy'],color='red',label='train')\n",
        "plt.plot(history.history['val_accuracy'],color='blue',label='validation')\n",
        "plt.legend()\n",
        "plt.show()"
      ],
      "metadata": {
        "id": "8wmYZgfg4ebu"
      },
      "execution_count": null,
      "outputs": []
    },
    {
      "cell_type": "code",
      "source": [
        "plt.plot(history.history['loss'],color='red',label='train')\n",
        "plt.plot(history.history['val_loss'],color='blue',label='validation')\n",
        "plt.legend()\n",
        "plt.show()"
      ],
      "metadata": {
        "id": "Ll3OYCFqB_oU"
      },
      "execution_count": null,
      "outputs": []
    },
    {
      "cell_type": "code",
      "source": [
        "plt.plot(history.history['loss'],color='red',label='train')\n",
        "plt.plot(history.history['val_loss'],color='blue',label='validation')\n",
        "plt.legend()\n",
        "plt.show()"
      ],
      "metadata": {
        "id": "Pj6BtY_FCFUJ"
      },
      "execution_count": null,
      "outputs": []
    },
    {
      "cell_type": "code",
      "source": [
        "##################Predict#######################"
      ],
      "metadata": {
        "id": "o88DRUtaCS2m"
      },
      "execution_count": null,
      "outputs": []
    },
    {
      "cell_type": "code",
      "source": [
        "f=glob.glob('/content/drive/MyDrive/BIO_VISION/predict/*')"
      ],
      "metadata": {
        "id": "O8IKxbRJbeuA"
      },
      "execution_count": null,
      "outputs": []
    },
    {
      "cell_type": "code",
      "source": [
        "l1=[]\n",
        "for i in f:\n",
        "  l1.append(i)\n",
        "predit_data=pd.DataFrame({'filename':l1})\n"
      ],
      "metadata": {
        "id": "JHpi4Q3Bbn9P"
      },
      "execution_count": null,
      "outputs": []
    },
    {
      "cell_type": "code",
      "source": [
        "resize_image(predit_data)"
      ],
      "metadata": {
        "id": "BDJ9XjIubp9W"
      },
      "execution_count": null,
      "outputs": []
    },
    {
      "cell_type": "code",
      "source": [],
      "metadata": {
        "id": "5AMKgkjQdEfO"
      },
      "execution_count": null,
      "outputs": []
    }
  ]
}